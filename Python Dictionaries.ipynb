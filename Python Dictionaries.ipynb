{
 "cells": [
  {
   "cell_type": "markdown",
   "metadata": {},
   "source": [
    "# **Python Dictionaries**"
   ]
  },
  {
   "cell_type": "markdown",
   "metadata": {},
   "source": [
    "### A dictionary is a collection which is unordered, changeable and indexed. In Python dictionaries are written with curly brackets, and they have keys and values"
   ]
  },
  {
   "cell_type": "markdown",
   "metadata": {},
   "source": [
    "#### **Creating & print a dictionary**"
   ]
  },
  {
   "cell_type": "code",
   "execution_count": 3,
   "metadata": {},
   "outputs": [
    {
     "name": "stdout",
     "output_type": "stream",
     "text": [
      "{'brand': 'Honda', 'model': 'Civic', 'year': 2017}\n"
     ]
    }
   ],
   "source": [
    "sampledict = {\n",
    "  \"brand\": \"Honda\",\n",
    "  \"model\": \"Civic\",\n",
    "  \"year\": 2017\n",
    "}\n",
    "print(sampledict)"
   ]
  },
  {
   "cell_type": "markdown",
   "metadata": {},
   "source": [
    "#### **Accessing Items**"
   ]
  },
  {
   "cell_type": "code",
   "execution_count": 6,
   "metadata": {},
   "outputs": [
    {
     "name": "stdout",
     "output_type": "stream",
     "text": [
      "Civic\n"
     ]
    }
   ],
   "source": [
    "sampledict = {\n",
    "  \"brand\": \"Honda\",\n",
    "  \"model\": \"Civic\",\n",
    "  \"year\": 2017\n",
    "}\n",
    "x= sampledict[\"model\"]\n",
    "print(x)"
   ]
  },
  {
   "cell_type": "code",
   "execution_count": 8,
   "metadata": {},
   "outputs": [
    {
     "name": "stdout",
     "output_type": "stream",
     "text": [
      "Civic\n"
     ]
    }
   ],
   "source": [
    "# get() method\n",
    "sampledict = {\n",
    "  \"brand\": \"Honda\",\n",
    "  \"model\": \"Civic\",\n",
    "  \"year\": 2017\n",
    "}\n",
    "x= sampledict.get(\"model\")\n",
    "print(x)"
   ]
  },
  {
   "cell_type": "markdown",
   "metadata": {},
   "source": [
    "#### **Changing Values**"
   ]
  },
  {
   "cell_type": "code",
   "execution_count": 9,
   "metadata": {},
   "outputs": [
    {
     "name": "stdout",
     "output_type": "stream",
     "text": [
      "{'brand': 'Honda', 'model': 'Civic', 'year': 2017, 'Year': 2019}\n"
     ]
    }
   ],
   "source": [
    "sampledict = {\n",
    "  \"brand\": \"Honda\",\n",
    "  \"model\": \"Civic\",\n",
    "  \"year\": 2017\n",
    "}\n",
    "sampledict[\"Year\"]=2019\n",
    "print(sampledict)"
   ]
  },
  {
   "cell_type": "markdown",
   "metadata": {},
   "source": [
    "#### **Loop Through a Dictionary**"
   ]
  },
  {
   "cell_type": "code",
   "execution_count": 10,
   "metadata": {},
   "outputs": [
    {
     "name": "stdout",
     "output_type": "stream",
     "text": [
      "brand\n",
      "model\n",
      "year\n"
     ]
    }
   ],
   "source": [
    "sampledict = {\n",
    "  \"brand\": \"Honda\",\n",
    "  \"model\": \"Civic\",\n",
    "  \"year\": 2017\n",
    "}\n",
    "for x in sampledict:\n",
    "    print(x)"
   ]
  },
  {
   "cell_type": "code",
   "execution_count": 11,
   "metadata": {},
   "outputs": [
    {
     "name": "stdout",
     "output_type": "stream",
     "text": [
      "Honda\n",
      "Civic\n",
      "2017\n"
     ]
    }
   ],
   "source": [
    "#Print all values in the dictionary, one by one:\n",
    "sampledict = {\n",
    "  \"brand\": \"Honda\",\n",
    "  \"model\": \"Civic\",\n",
    "  \"year\": 2017\n",
    "}\n",
    "for x in sampledict:\n",
    "    print(sampledict[x])"
   ]
  },
  {
   "cell_type": "code",
   "execution_count": 13,
   "metadata": {},
   "outputs": [
    {
     "name": "stdout",
     "output_type": "stream",
     "text": [
      "Honda\n",
      "Civic\n",
      "2017\n"
     ]
    }
   ],
   "source": [
    "#we can also use the values() function to return values of a dictionary\n",
    "sampledict = {\n",
    "  \"brand\": \"Honda\",\n",
    "  \"model\": \"Civic\",\n",
    "  \"year\": 2017\n",
    "}\n",
    "for x in sampledict.values():\n",
    "    print(x)"
   ]
  },
  {
   "cell_type": "code",
   "execution_count": 14,
   "metadata": {},
   "outputs": [
    {
     "name": "stdout",
     "output_type": "stream",
     "text": [
      "('brand', 'Honda')\n",
      "('model', 'Civic')\n",
      "('year', 2017)\n"
     ]
    }
   ],
   "source": [
    "#Loop through both keys and values, by using the items() function:\n",
    "sampledict = {\n",
    "  \"brand\": \"Honda\",\n",
    "  \"model\": \"Civic\",\n",
    "  \"year\": 2017\n",
    "}\n",
    "for x in sampledict.items():\n",
    "    print(x)"
   ]
  },
  {
   "cell_type": "code",
   "execution_count": 16,
   "metadata": {},
   "outputs": [
    {
     "name": "stdout",
     "output_type": "stream",
     "text": [
      "Yes\n"
     ]
    }
   ],
   "source": [
    "#To determine if a specified key is present in a dictionary use the in keyword\n",
    "sampledict = {\n",
    "  \"brand\": \"Honda\",\n",
    "  \"model\": \"Civic\",\n",
    "  \"year\": 2017\n",
    "}\n",
    "if \"model\" in sampledict:\n",
    "    print(\"Yes\")"
   ]
  },
  {
   "cell_type": "markdown",
   "metadata": {},
   "source": [
    "#### **Dictionary Length**"
   ]
  },
  {
   "cell_type": "code",
   "execution_count": 18,
   "metadata": {},
   "outputs": [
    {
     "name": "stdout",
     "output_type": "stream",
     "text": [
      "3\n"
     ]
    }
   ],
   "source": [
    "sampledict = {\n",
    "  \"brand\": \"Honda\",\n",
    "  \"model\": \"Civic\",\n",
    "  \"year\": 2017\n",
    "}\n",
    "print(len(sampledict))"
   ]
  },
  {
   "cell_type": "markdown",
   "metadata": {},
   "source": [
    "#### **Addint Items**"
   ]
  },
  {
   "cell_type": "code",
   "execution_count": 21,
   "metadata": {},
   "outputs": [
    {
     "name": "stdout",
     "output_type": "stream",
     "text": [
      "{'brand': 'Honda', 'model': 'Civic', 'year': 2017, 'color': 'Black'}\n"
     ]
    }
   ],
   "source": [
    "sampledict = {\n",
    "  \"brand\": \"Honda\",\n",
    "  \"model\": \"Civic\",\n",
    "  \"year\": 2017\n",
    "}\n",
    "sampledict[\"color\"]=\"Black\" \n",
    "print(sampledict)"
   ]
  },
  {
   "cell_type": "markdown",
   "metadata": {},
   "source": [
    "#### **Removing Items**"
   ]
  },
  {
   "cell_type": "code",
   "execution_count": 24,
   "metadata": {},
   "outputs": [
    {
     "name": "stdout",
     "output_type": "stream",
     "text": [
      "{'brand': 'Honda', 'year': 2017}\n"
     ]
    }
   ],
   "source": [
    "# pop() method(this method removes the item with the specified key name)\n",
    "sampledict = {\n",
    "  \"brand\": \"Honda\",\n",
    "  \"model\": \"Civic\",\n",
    "  \"year\": 2017\n",
    "}\n",
    "sampledict.pop(\"model\")\n",
    "print(sampledict)"
   ]
  },
  {
   "cell_type": "code",
   "execution_count": 27,
   "metadata": {},
   "outputs": [
    {
     "name": "stdout",
     "output_type": "stream",
     "text": [
      "{'brand': 'Honda', 'model': 'Civic'}\n"
     ]
    }
   ],
   "source": [
    "#The popitem() method (removes the last inserted item (in versions before 3.7, a random item is removed instead):\n",
    "sampledict = {\n",
    "  \"brand\": \"Honda\",\n",
    "  \"model\": \"Civic\",\n",
    "  \"year\": 2017\n",
    "}\n",
    "sampledict.popitem()\n",
    "print(sampledict)"
   ]
  },
  {
   "cell_type": "code",
   "execution_count": 28,
   "metadata": {},
   "outputs": [
    {
     "name": "stdout",
     "output_type": "stream",
     "text": [
      "{'brand': 'Honda', 'year': 2017}\n"
     ]
    }
   ],
   "source": [
    "#The del keyword removes the item with the specified key name:\n",
    "sampledict = {\n",
    "  \"brand\": \"Honda\",\n",
    "  \"model\": \"Civic\",\n",
    "  \"year\": 2017\n",
    "}\n",
    "del sampledict[\"model\"]\n",
    "print(sampledict)"
   ]
  },
  {
   "cell_type": "code",
   "execution_count": null,
   "metadata": {},
   "outputs": [],
   "source": [
    "#The del keyword can also delete the dictionary completely:\n",
    "sampledict = {\n",
    "  \"brand\": \"Honda\",\n",
    "  \"model\": \"Civic\",\n",
    "  \"year\": 2017\n",
    "}\n",
    "del sampledict\n",
    "print(sampledict)\n",
    "#this will cause an error because \"thisdict\" no longer exists."
   ]
  },
  {
   "cell_type": "code",
   "execution_count": 29,
   "metadata": {},
   "outputs": [
    {
     "name": "stdout",
     "output_type": "stream",
     "text": [
      "{}\n"
     ]
    }
   ],
   "source": [
    "# The clear() methos (this keyword empties the dictionary:)\n",
    "sampledict = {\n",
    "  \"brand\": \"Honda\",\n",
    "  \"model\": \"Civic\",\n",
    "  \"year\": 2017\n",
    "}\n",
    "sampledict.clear()\n",
    "print(sampledict)"
   ]
  },
  {
   "cell_type": "markdown",
   "metadata": {},
   "source": [
    "#### **Copy a Dictionary**"
   ]
  },
  {
   "cell_type": "code",
   "execution_count": 30,
   "metadata": {},
   "outputs": [
    {
     "name": "stdout",
     "output_type": "stream",
     "text": [
      "{'brand': 'Honda', 'model': 'Civic', 'year': 2017}\n"
     ]
    }
   ],
   "source": [
    "#Make a copy of a dictionary with the copy() method:\n",
    "sampledict = {\n",
    "  \"brand\": \"Honda\",\n",
    "  \"model\": \"Civic\",\n",
    "  \"year\": 2017\n",
    "}\n",
    "mydict=sampledict.copy()\n",
    "print(mydict)"
   ]
  },
  {
   "cell_type": "code",
   "execution_count": 32,
   "metadata": {},
   "outputs": [
    {
     "name": "stdout",
     "output_type": "stream",
     "text": [
      "{'brand': 'Honda', 'model': 'Civic', 'year': 2017}\n"
     ]
    }
   ],
   "source": [
    "#Make a copy of a dictionary with the dict() method:\n",
    "sampledict = {\n",
    "  \"brand\": \"Honda\",\n",
    "  \"model\": \"Civic\",\n",
    "  \"year\": 2017\n",
    "}\n",
    "mydict=dict(sampledict)\n",
    "print(mydict)"
   ]
  },
  {
   "cell_type": "markdown",
   "metadata": {},
   "source": [
    "#### **The dict() Constructor**"
   ]
  },
  {
   "cell_type": "code",
   "execution_count": 37,
   "metadata": {},
   "outputs": [
    {
     "name": "stdout",
     "output_type": "stream",
     "text": [
      "{'brand': 'Honda', 'model': 'Civic', 'year': '2017'}\n"
     ]
    }
   ],
   "source": [
    "sampledict = dict(brand=\"Honda\",model=\"Civic\",year= \"2017\")\n",
    "print(sampledict)\n",
    "## note the use of equals rather than colon for the assignment"
   ]
  },
  {
   "cell_type": "markdown",
   "metadata": {},
   "source": [
    "#### **Dictionary fromkeys() Method**"
   ]
  },
  {
   "cell_type": "code",
   "execution_count": 44,
   "metadata": {},
   "outputs": [
    {
     "name": "stdout",
     "output_type": "stream",
     "text": [
      "{'key1': 0, 'key2': 0, 'key3': 0}\n"
     ]
    }
   ],
   "source": [
    "#Create a dictionary with 3 keys, all with the value 0:\n",
    "x = ('key1', 'key2', 'key3')\n",
    "y=0\n",
    "thisdict = dict.fromkeys(x,y)\n",
    "\n",
    "print(thisdict)\n",
    "#remeber Default value is None"
   ]
  },
  {
   "cell_type": "markdown",
   "metadata": {},
   "source": [
    "#### **Dictionary keys() Method**"
   ]
  },
  {
   "cell_type": "code",
   "execution_count": 47,
   "metadata": {},
   "outputs": [
    {
     "name": "stdout",
     "output_type": "stream",
     "text": [
      "dict_keys(['brand', 'model', 'year'])\n"
     ]
    }
   ],
   "source": [
    "#Return the keys:\n",
    "car = {\n",
    "  \"brand\": \"Honda\",\n",
    "  \"model\": \"Civic\",\n",
    "  \"year\": 2017\n",
    "}\n",
    "\n",
    "x = car.keys()\n",
    "\n",
    "print(x)\n"
   ]
  },
  {
   "cell_type": "code",
   "execution_count": 51,
   "metadata": {},
   "outputs": [
    {
     "name": "stdout",
     "output_type": "stream",
     "text": [
      "dict_keys(['brand', 'model', 'year', 'color'])\n"
     ]
    }
   ],
   "source": [
    "#When an item is added in the dictionary, the view object also gets updated:\n",
    "car = {\n",
    "  \"brand\": \"Honda\",\n",
    "  \"model\": \"Civic\",\n",
    "  \"year\": 2017\n",
    "}\n",
    "\n",
    "x = car.keys()\n",
    "car[\"color\"]=\"red\"\n",
    "print(x)\n"
   ]
  },
  {
   "cell_type": "markdown",
   "metadata": {},
   "source": [
    "#### **Dictionary setdefault() Method**"
   ]
  },
  {
   "cell_type": "code",
   "execution_count": 55,
   "metadata": {},
   "outputs": [
    {
     "name": "stdout",
     "output_type": "stream",
     "text": [
      "Civic\n"
     ]
    }
   ],
   "source": [
    "#Get the value of the \"model\" item\n",
    "car = {\n",
    "  \"brand\": \"Honda\",\n",
    "  \"model\": \"Civic\",\n",
    "  \"year\": 2017\n",
    "}\n",
    "\n",
    "x = car.setdefault(\"model\",\"Accord\")\n",
    "\n",
    "print(x)\n",
    "\n",
    "#If the key exist, this parameter has no effect.If the key does not exist, this value becomes the key's valueDefault value None"
   ]
  },
  {
   "cell_type": "code",
   "execution_count": 56,
   "metadata": {},
   "outputs": [
    {
     "name": "stdout",
     "output_type": "stream",
     "text": [
      "red\n"
     ]
    }
   ],
   "source": [
    "car = {\n",
    "  \"brand\": \"Honda\",\n",
    "  \"model\": \"Civic\",\n",
    "  \"year\": 2017\n",
    "}\n",
    "\n",
    "x = car.setdefault(\"color\",\"red\")\n",
    "\n",
    "print(x)"
   ]
  },
  {
   "cell_type": "markdown",
   "metadata": {},
   "source": [
    "#### **Dictionary update() Method**"
   ]
  },
  {
   "cell_type": "markdown",
   "metadata": {},
   "source": [
    "#Insert an item to the dictionary:\n",
    "car = {\n",
    "  \"brand\": \"Honda\",\n",
    "  \"model\": \"Civic\",\n",
    "  \"year\": 2017\n",
    "}\n",
    "\n",
    "car.update({\"color\":\"red\"})\n",
    "\n",
    "print(car)\n",
    "\n",
    "#The update() method inserts the specified items to the dictionary.The specified items can be a dictionary, or an iterable object.\n"
   ]
  },
  {
   "cell_type": "markdown",
   "metadata": {},
   "source": [
    "##### **Dictionary values() Method**"
   ]
  },
  {
   "cell_type": "code",
   "execution_count": 63,
   "metadata": {},
   "outputs": [
    {
     "name": "stdout",
     "output_type": "stream",
     "text": [
      "dict_values(['Honda', 'Civic', 2017])\n"
     ]
    }
   ],
   "source": [
    "#Return the values:\n",
    "car = {\n",
    "  \"brand\": \"Honda\",\n",
    "  \"model\": \"Civic\",\n",
    "  \"year\": 2017\n",
    "}\n",
    "\n",
    "x = car.values()\n",
    "\n",
    "print(x)"
   ]
  },
  {
   "cell_type": "code",
   "execution_count": 64,
   "metadata": {},
   "outputs": [
    {
     "name": "stdout",
     "output_type": "stream",
     "text": [
      "dict_values(['Honda', 'Civic', 2019])\n"
     ]
    }
   ],
   "source": [
    "#When a values is changed in the dictionary, the view object also gets updated:\n",
    "car = {\n",
    "  \"brand\": \"Honda\",\n",
    "  \"model\": \"Civic\",\n",
    "  \"year\": 2017\n",
    "}\n",
    "\n",
    "x = car.values()\n",
    "car[\"year\"]=2019\n",
    "print(x)"
   ]
  },
  {
   "cell_type": "markdown",
   "metadata": {},
   "source": [
    "## **End**"
   ]
  }
 ],
 "metadata": {
  "kernelspec": {
   "display_name": "Python 3",
   "language": "python",
   "name": "python3"
  },
  "language_info": {
   "codemirror_mode": {
    "name": "ipython",
    "version": 3
   },
   "file_extension": ".py",
   "mimetype": "text/x-python",
   "name": "python",
   "nbconvert_exporter": "python",
   "pygments_lexer": "ipython3",
   "version": "3.6.8"
  }
 },
 "nbformat": 4,
 "nbformat_minor": 2
}
