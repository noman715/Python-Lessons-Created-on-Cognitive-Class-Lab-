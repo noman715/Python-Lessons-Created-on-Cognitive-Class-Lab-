{
 "cells": [
  {
   "cell_type": "markdown",
   "metadata": {},
   "source": [
    "# **Python Sets**"
   ]
  },
  {
   "cell_type": "markdown",
   "metadata": {},
   "source": [
    "### A set is a collection which is unordered and unindexed. In Python sets are written with curly brackets"
   ]
  },
  {
   "cell_type": "markdown",
   "metadata": {},
   "source": [
    "#### **Creating a set**"
   ]
  },
  {
   "cell_type": "code",
   "execution_count": 2,
   "metadata": {},
   "outputs": [
    {
     "name": "stdout",
     "output_type": "stream",
     "text": [
      "{'Arizona', 'Nevada', 'California'}\n"
     ]
    }
   ],
   "source": [
    "xset={\"Arizona\",\"California\",\"Nevada\"}\n",
    "print(xset)"
   ]
  },
  {
   "cell_type": "markdown",
   "metadata": {},
   "source": [
    "#### **Acessing and loop through a set**"
   ]
  },
  {
   "cell_type": "code",
   "execution_count": 5,
   "metadata": {},
   "outputs": [
    {
     "name": "stdout",
     "output_type": "stream",
     "text": [
      "Arizona\n",
      "Nevada\n",
      "California\n"
     ]
    }
   ],
   "source": [
    "xset={\"Arizona\",\"California\",\"Nevada\"}\n",
    "for x in xset:\n",
    "    print(x)"
   ]
  },
  {
   "cell_type": "code",
   "execution_count": 7,
   "metadata": {},
   "outputs": [
    {
     "name": "stdout",
     "output_type": "stream",
     "text": [
      "True\n"
     ]
    }
   ],
   "source": [
    "# accessing an item \n",
    "xset={\"Arizona\",\"California\",\"Nevada\"}\n",
    "print('Arizona' in xset)"
   ]
  },
  {
   "cell_type": "markdown",
   "metadata": {},
   "source": [
    "#### **Adding a items**"
   ]
  },
  {
   "cell_type": "code",
   "execution_count": 9,
   "metadata": {},
   "outputs": [
    {
     "name": "stdout",
     "output_type": "stream",
     "text": [
      "{'Arizona', 'Nevada', 'California', 'Utah'}\n"
     ]
    }
   ],
   "source": [
    "# Add an item to a set, using the add() method\n",
    "xset={\"Arizona\",\"California\",\"Nevada\"}\n",
    "xset.add(\"Utah\")\n",
    "print(xset)"
   ]
  },
  {
   "cell_type": "code",
   "execution_count": 11,
   "metadata": {},
   "outputs": [
    {
     "name": "stdout",
     "output_type": "stream",
     "text": [
      "{'Arizona', 'Nevada', 'Texas', 'California', 'Utah'}\n"
     ]
    }
   ],
   "source": [
    "# Add multiple items to a set, using the update() method:\n",
    "xset={\"Arizona\",\"California\",\"Nevada\"}\n",
    "xset.update([\"Utah\",\"Texas\"])\n",
    "print(xset)"
   ]
  },
  {
   "cell_type": "markdown",
   "metadata": {},
   "source": [
    "#### **Length of a set**"
   ]
  },
  {
   "cell_type": "code",
   "execution_count": 13,
   "metadata": {},
   "outputs": [
    {
     "name": "stdout",
     "output_type": "stream",
     "text": [
      "3\n"
     ]
    }
   ],
   "source": [
    "xset={\"Arizona\",\"California\",\"Nevada\"}\n",
    "print(len(xset))"
   ]
  },
  {
   "cell_type": "markdown",
   "metadata": {},
   "source": [
    "#### **Removing a item**"
   ]
  },
  {
   "cell_type": "code",
   "execution_count": 14,
   "metadata": {},
   "outputs": [
    {
     "name": "stdout",
     "output_type": "stream",
     "text": [
      "{'Nevada', 'California'}\n"
     ]
    }
   ],
   "source": [
    "# Remove item by using the remove() method\n",
    "xset={\"Arizona\",\"California\",\"Nevada\"}\n",
    "xset.remove(\"Arizona\")\n",
    "print(xset)"
   ]
  },
  {
   "cell_type": "code",
   "execution_count": 15,
   "metadata": {},
   "outputs": [
    {
     "name": "stdout",
     "output_type": "stream",
     "text": [
      "{'Nevada', 'California'}\n"
     ]
    }
   ],
   "source": [
    "#Remove item by using the discard() method:\n",
    "xset={\"Arizona\",\"California\",\"Nevada\"}\n",
    "xset.discard(\"Arizona\")\n",
    "print(xset)"
   ]
  },
  {
   "cell_type": "code",
   "execution_count": 20,
   "metadata": {},
   "outputs": [
    {
     "name": "stdout",
     "output_type": "stream",
     "text": [
      "Arizona\n",
      "{'Nevada', 'California'}\n"
     ]
    }
   ],
   "source": [
    "# useing the pop()method ***careful about pop() method because it remove last item so you wont know which item removed \n",
    "#because set is unordered\n",
    "xset={\"Arizona\",\"California\",\"Nevada\"}\n",
    "x= xset.pop()\n",
    "print(x)\n",
    "print(xset)"
   ]
  },
  {
   "cell_type": "code",
   "execution_count": 22,
   "metadata": {},
   "outputs": [
    {
     "name": "stdout",
     "output_type": "stream",
     "text": [
      "set()\n"
     ]
    }
   ],
   "source": [
    "# The Clear()method\n",
    "xset={\"Arizona\",\"California\",\"Nevada\"}\n",
    "xset.clear()\n",
    "print(xset)"
   ]
  },
  {
   "cell_type": "code",
   "execution_count": 24,
   "metadata": {},
   "outputs": [
    {
     "ename": "NameError",
     "evalue": "name 'xset' is not defined",
     "output_type": "error",
     "traceback": [
      "\u001b[0;31m---------------------------------------------------------------------------\u001b[0m",
      "\u001b[0;31mNameError\u001b[0m                                 Traceback (most recent call last)",
      "\u001b[0;32m<ipython-input-24-8c86f77090ed>\u001b[0m in \u001b[0;36m<module>\u001b[0;34m\u001b[0m\n\u001b[1;32m      2\u001b[0m \u001b[0mxset\u001b[0m\u001b[0;34m=\u001b[0m\u001b[0;34m{\u001b[0m\u001b[0;34m\"Arizona\"\u001b[0m\u001b[0;34m,\u001b[0m\u001b[0;34m\"California\"\u001b[0m\u001b[0;34m,\u001b[0m\u001b[0;34m\"Nevada\"\u001b[0m\u001b[0;34m}\u001b[0m\u001b[0;34m\u001b[0m\u001b[0;34m\u001b[0m\u001b[0m\n\u001b[1;32m      3\u001b[0m \u001b[0;32mdel\u001b[0m \u001b[0mxset\u001b[0m\u001b[0;34m\u001b[0m\u001b[0;34m\u001b[0m\u001b[0m\n\u001b[0;32m----> 4\u001b[0;31m \u001b[0mprint\u001b[0m\u001b[0;34m(\u001b[0m\u001b[0mxset\u001b[0m\u001b[0;34m)\u001b[0m \u001b[0;31m#return error because set is deleted\u001b[0m\u001b[0;34m\u001b[0m\u001b[0;34m\u001b[0m\u001b[0m\n\u001b[0m",
      "\u001b[0;31mNameError\u001b[0m: name 'xset' is not defined"
     ]
    }
   ],
   "source": [
    "# The del keyword will delete the set completely \n",
    "xset={\"Arizona\",\"California\",\"Nevada\"}\n",
    "del xset\n",
    "print(xset) #return error because set is deleted "
   ]
  },
  {
   "cell_type": "markdown",
   "metadata": {},
   "source": [
    "#### **The set() Constructor**\n"
   ]
  },
  {
   "cell_type": "code",
   "execution_count": 28,
   "metadata": {},
   "outputs": [
    {
     "name": "stdout",
     "output_type": "stream",
     "text": [
      "{'Arizona', 'Nevada', 'California'}\n"
     ]
    }
   ],
   "source": [
    "xset=set((\"Arizona\",\"California\",\"Nevada\")) #remember to use double round brackets\n",
    "print(xset)"
   ]
  },
  {
   "cell_type": "markdown",
   "metadata": {},
   "source": [
    "#### **Set copy() Method**"
   ]
  },
  {
   "cell_type": "code",
   "execution_count": 30,
   "metadata": {},
   "outputs": [
    {
     "name": "stdout",
     "output_type": "stream",
     "text": [
      "{'Arizona', 'Nevada', 'California'}\n"
     ]
    }
   ],
   "source": [
    "# copy the set\n",
    "xset={\"Arizona\",\"California\",\"Nevada\"}\n",
    "x= xset.copy()\n",
    "print(x)"
   ]
  },
  {
   "cell_type": "markdown",
   "metadata": {},
   "source": [
    "#### **Set difference() Method**"
   ]
  },
  {
   "cell_type": "code",
   "execution_count": 33,
   "metadata": {},
   "outputs": [
    {
     "name": "stdout",
     "output_type": "stream",
     "text": [
      "{'Nevada', 'California'}\n"
     ]
    }
   ],
   "source": [
    "#The returned set contains items that exist only in the first set, and not in both sets\n",
    "xset={\"Arizona\",\"California\",\"Nevada\"}\n",
    "yset={\"Arizona\",\"Texas\", \"Utah\"}\n",
    "zset= xset.difference(yset)\n",
    "print(zset)"
   ]
  },
  {
   "cell_type": "markdown",
   "metadata": {},
   "source": [
    "#### **Set intersection() Method**"
   ]
  },
  {
   "cell_type": "code",
   "execution_count": 43,
   "metadata": {},
   "outputs": [
    {
     "name": "stdout",
     "output_type": "stream",
     "text": [
      "{'Arizona'}\n"
     ]
    }
   ],
   "source": [
    "#The intersection() method returns a set that contains the similarity between two or more sets\n",
    "xset={\"Arizona\",\"California\",\"Nevada\"}\n",
    "yset={\"Arizona\",\"Texas\", \"Utah\"}\n",
    "zset=xset.intersection(yset)\n",
    "print(zset)"
   ]
  },
  {
   "cell_type": "markdown",
   "metadata": {},
   "source": [
    "#### **Set intersection_update() Method**"
   ]
  },
  {
   "cell_type": "code",
   "execution_count": 41,
   "metadata": {},
   "outputs": [
    {
     "name": "stdout",
     "output_type": "stream",
     "text": [
      "{'Arizona'}\n"
     ]
    }
   ],
   "source": [
    "#Remove the items that is not present in both set:\n",
    "xset={\"Arizona\",\"California\",\"Nevada\"}\n",
    "yset={\"Arizona\",\"Texas\", \"Utah\"}\n",
    "xset.intersection_update(yset)\n",
    "print(xset)"
   ]
  },
  {
   "cell_type": "markdown",
   "metadata": {},
   "source": [
    "#### **Set isdisjoint() Method**"
   ]
  },
  {
   "cell_type": "code",
   "execution_count": 45,
   "metadata": {},
   "outputs": [
    {
     "name": "stdout",
     "output_type": "stream",
     "text": [
      "True\n"
     ]
    }
   ],
   "source": [
    "#Return True if no items in set A is present in set B\n",
    "xset={\"Arizona\",\"California\",\"Nevada\"}\n",
    "yset={\"Florida\",\"Texas\", \"Utah\"}\n",
    "zset=xset.isdisjoint(yset)\n",
    "print(zset)"
   ]
  },
  {
   "cell_type": "markdown",
   "metadata": {},
   "source": [
    "#### **Set issubset() Method**"
   ]
  },
  {
   "cell_type": "code",
   "execution_count": 49,
   "metadata": {},
   "outputs": [
    {
     "name": "stdout",
     "output_type": "stream",
     "text": [
      "True\n"
     ]
    }
   ],
   "source": [
    "#Return True if all items set A are present in set B:\n",
    "xset={\"Arizona\",\"California\",\"Nevada\"}\n",
    "yset={\"Arizona\",\"California\",\"Nevada\",\"Texas\", \"Utah\"}\n",
    "zset=xset.issubset(yset)\n",
    "print(zset)"
   ]
  },
  {
   "cell_type": "markdown",
   "metadata": {},
   "source": [
    "#### **Set issuperset() Method**\n"
   ]
  },
  {
   "cell_type": "code",
   "execution_count": 52,
   "metadata": {},
   "outputs": [
    {
     "name": "stdout",
     "output_type": "stream",
     "text": [
      "True\n"
     ]
    }
   ],
   "source": [
    "#Return True if all items set B are present in set A\n",
    "xset={\"Arizona\",\"California\",\"Nevada\",\"Texas\", \"Utah\"}\n",
    "yset={\"Arizona\",\"California\",\"Nevada\"}\n",
    "zset=xset.issuperset(yset)\n",
    "print(zset)"
   ]
  },
  {
   "cell_type": "markdown",
   "metadata": {},
   "source": [
    "#### **Set symmetric_difference() Method**"
   ]
  },
  {
   "cell_type": "code",
   "execution_count": 53,
   "metadata": {},
   "outputs": [
    {
     "name": "stdout",
     "output_type": "stream",
     "text": [
      "{'Texas', 'Utah'}\n"
     ]
    }
   ],
   "source": [
    "#Return a set that contains all items from both sets, except items that are present in both sets:\n",
    "xset={\"Arizona\",\"California\",\"Nevada\"}\n",
    "yset={\"Arizona\",\"California\",\"Nevada\",\"Texas\", \"Utah\"}\n",
    "zset=xset.symmetric_difference(yset)\n",
    "print(zset)"
   ]
  },
  {
   "cell_type": "markdown",
   "metadata": {},
   "source": [
    "#### **Set symmetric_difference_update() Method**"
   ]
  },
  {
   "cell_type": "code",
   "execution_count": 55,
   "metadata": {},
   "outputs": [
    {
     "name": "stdout",
     "output_type": "stream",
     "text": [
      "{'Texas', 'Utah'}\n"
     ]
    }
   ],
   "source": [
    "#Remove the items that are present in both sets, AND insert the items that is not present in both sets:\n",
    "xset={\"Arizona\",\"California\",\"Nevada\"}\n",
    "yset={\"Arizona\",\"California\",\"Nevada\",\"Texas\", \"Utah\"}\n",
    "xset.symmetric_difference_update(yset)\n",
    "print(xset)"
   ]
  },
  {
   "cell_type": "markdown",
   "metadata": {},
   "source": [
    "#### **Set union() Method**"
   ]
  },
  {
   "cell_type": "code",
   "execution_count": 56,
   "metadata": {},
   "outputs": [
    {
     "name": "stdout",
     "output_type": "stream",
     "text": [
      "{'Arizona', 'Nevada', 'Texas', 'California', 'Utah'}\n"
     ]
    }
   ],
   "source": [
    "#Return a set that contains all items from both sets, duplicates are excluded:\n",
    "xset={\"Arizona\",\"California\",\"Nevada\"}\n",
    "yset={\"Arizona\",\"California\",\"Nevada\",\"Texas\", \"Utah\"}\n",
    "zset=xset.union(yset)\n",
    "print(zset)"
   ]
  },
  {
   "cell_type": "markdown",
   "metadata": {},
   "source": [
    "## **End**"
   ]
  },
  {
   "cell_type": "code",
   "execution_count": null,
   "metadata": {},
   "outputs": [],
   "source": []
  }
 ],
 "metadata": {
  "kernelspec": {
   "display_name": "Python 3",
   "language": "python",
   "name": "python3"
  },
  "language_info": {
   "codemirror_mode": {
    "name": "ipython",
    "version": 3
   },
   "file_extension": ".py",
   "mimetype": "text/x-python",
   "name": "python",
   "nbconvert_exporter": "python",
   "pygments_lexer": "ipython3",
   "version": "3.6.8"
  }
 },
 "nbformat": 4,
 "nbformat_minor": 2
}
