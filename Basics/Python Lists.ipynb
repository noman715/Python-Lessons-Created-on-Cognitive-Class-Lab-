{
 "cells": [
  {
   "cell_type": "markdown",
   "metadata": {},
   "source": [
    "# <span style=\"color:blue\">**Python Lists**</span>"
   ]
  },
  {
   "cell_type": "markdown",
   "metadata": {},
   "source": [
    "## <span style=\"color:green\">**Things to remember**</span>\n",
    "### Python Collections (Arrays)\n",
    "## **There are four collection data types in the Python programming language**\n",
    "### <span style=\"color:red\">1. List is a collection which is ordered and changeable. Allows duplicate members</span>\n",
    "### <span style=\"color:red\">2.Tuple is a collection which is ordered and unchangeable. Allows duplicate members</span>\n",
    "### <span style=\"color:red\">3. Set is a collection which is unordered and unindexed. No duplicate members</span>\n",
    "### <span style=\"color:red\">4. Dictionary is a collection which is unordered, changeable and indexed. No duplicate members</span>\n",
    "\n"
   ]
  },
  {
   "cell_type": "markdown",
   "metadata": {},
   "source": [
    "## <span style=\"color:blue\">**List**</span>\n"
   ]
  },
  {
   "cell_type": "markdown",
   "metadata": {},
   "source": [
    "#### **Creating a list**"
   ]
  },
  {
   "cell_type": "code",
   "execution_count": 7,
   "metadata": {},
   "outputs": [
    {
     "name": "stdout",
     "output_type": "stream",
     "text": [
      "['Arizona', 'California', 'Nevada']\n"
     ]
    }
   ],
   "source": [
    "samplelist = [\"Arizona\", \"California\", \"Nevada\"]\n",
    "print(samplelist)"
   ]
  },
  {
   "cell_type": "markdown",
   "metadata": {},
   "source": [
    "#### **Accessing items by referring to the index number**"
   ]
  },
  {
   "cell_type": "code",
   "execution_count": 6,
   "metadata": {},
   "outputs": [
    {
     "name": "stdout",
     "output_type": "stream",
     "text": [
      "California\n"
     ]
    }
   ],
   "source": [
    "samplelist = [\"Arizona\", \"California\", \"Nevada\"]\n",
    "print(samplelist[1])"
   ]
  },
  {
   "cell_type": "markdown",
   "metadata": {},
   "source": [
    "#### **Changing item value**"
   ]
  },
  {
   "cell_type": "code",
   "execution_count": 5,
   "metadata": {},
   "outputs": [
    {
     "name": "stdout",
     "output_type": "stream",
     "text": [
      "['Arizona', 'Utah', 'Nevada']\n"
     ]
    }
   ],
   "source": [
    "samplelist = [\"Arizona\", \"California\", \"Nevada\"]\n",
    "samplelist[1]=\"Utah\"\n",
    "print(samplelist)"
   ]
  },
  {
   "cell_type": "markdown",
   "metadata": {},
   "source": [
    "#### **Loop through a list(for loop)**"
   ]
  },
  {
   "cell_type": "code",
   "execution_count": 15,
   "metadata": {},
   "outputs": [
    {
     "name": "stdout",
     "output_type": "stream",
     "text": [
      "Arizona\n",
      "California\n",
      "Nevada\n"
     ]
    }
   ],
   "source": [
    "samplelist = [\"Arizona\", \"California\", \"Nevada\"]\n",
    "for x in samplelist:\n",
    "    print(x)"
   ]
  },
  {
   "cell_type": "markdown",
   "metadata": {},
   "source": [
    "#### **Existance of item in list**"
   ]
  },
  {
   "cell_type": "code",
   "execution_count": 9,
   "metadata": {},
   "outputs": [
    {
     "name": "stdout",
     "output_type": "stream",
     "text": [
      "Yes, \"Arizona\" is in the samplelist\n"
     ]
    }
   ],
   "source": [
    "samplelist = [\"Arizona\", \"California\", \"Nevada\"]\n",
    "if \"Arizona\" in samplelist:\n",
    "    print('Yes, \"Arizona\" is in the samplelist')\n"
   ]
  },
  {
   "cell_type": "markdown",
   "metadata": {},
   "source": [
    "#### **List Length**"
   ]
  },
  {
   "cell_type": "code",
   "execution_count": 3,
   "metadata": {},
   "outputs": [
    {
     "name": "stdout",
     "output_type": "stream",
     "text": [
      "3\n"
     ]
    }
   ],
   "source": [
    "samplelist = [\"Arizona\", \"California\", \"Nevada\"]\n",
    "print(len(samplelist))"
   ]
  },
  {
   "cell_type": "markdown",
   "metadata": {},
   "source": [
    "#### **Add Items to List**"
   ]
  },
  {
   "cell_type": "code",
   "execution_count": 4,
   "metadata": {},
   "outputs": [
    {
     "name": "stdout",
     "output_type": "stream",
     "text": [
      "['Arizona', 'California', 'Nevada', 'Texas']\n"
     ]
    }
   ],
   "source": [
    "#using 'append()' method\n",
    "samplelist = [\"Arizona\", \"California\", \"Nevada\"]\n",
    "samplelist.append(\"Texas\")\n",
    "print(samplelist)"
   ]
  },
  {
   "cell_type": "code",
   "execution_count": 7,
   "metadata": {},
   "outputs": [
    {
     "name": "stdout",
     "output_type": "stream",
     "text": [
      "['Arizona', 'Texas', 'California', 'Nevada']\n"
     ]
    }
   ],
   "source": [
    "#Using 'insert()' method\n",
    "samplelist = [\"Arizona\", \"California\", \"Nevada\"]\n",
    "samplelist.insert(1,'Texas') #'1' used for specify the index number\n",
    "print(samplelist)"
   ]
  },
  {
   "cell_type": "markdown",
   "metadata": {},
   "source": [
    "#### **Removing items**"
   ]
  },
  {
   "cell_type": "code",
   "execution_count": 8,
   "metadata": {},
   "outputs": [
    {
     "name": "stdout",
     "output_type": "stream",
     "text": [
      "['Arizona', 'Nevada']\n"
     ]
    }
   ],
   "source": [
    "# The 'remove()' methods\n",
    "samplelist = [\"Arizona\", \"California\", \"Nevada\"]\n",
    "samplelist.remove('California')\n",
    "print(samplelist)"
   ]
  },
  {
   "cell_type": "code",
   "execution_count": 12,
   "metadata": {},
   "outputs": [
    {
     "name": "stdout",
     "output_type": "stream",
     "text": [
      "['Arizona', 'California']\n"
     ]
    }
   ],
   "source": [
    "# The 'pop()' method\n",
    "samplelist = [\"Arizona\", \"California\", \"Nevada\"]\n",
    "samplelist.pop() #The pop() method removes the specified index, (or the last item if index is not specified)\n",
    "print(samplelist)"
   ]
  },
  {
   "cell_type": "code",
   "execution_count": 18,
   "metadata": {},
   "outputs": [
    {
     "name": "stdout",
     "output_type": "stream",
     "text": [
      "['Arizona', 'Nevada']\n"
     ]
    }
   ],
   "source": [
    "# the'del'keyword method\n",
    "samplelist = [\"Arizona\", \"California\", \"Nevada\"]\n",
    "del samplelist[1]\n",
    "print(samplelist)\n",
    "# it can also use for delete entire list"
   ]
  },
  {
   "cell_type": "code",
   "execution_count": 19,
   "metadata": {},
   "outputs": [
    {
     "name": "stdout",
     "output_type": "stream",
     "text": [
      "[]\n"
     ]
    }
   ],
   "source": [
    "# The 'clear()'method(for empties the list)\n",
    "samplelist = [\"Arizona\", \"California\", \"Nevada\"]\n",
    "samplelist.clear()\n",
    "print(samplelist)\n"
   ]
  },
  {
   "cell_type": "markdown",
   "metadata": {},
   "source": [
    "#### **Copy a list**"
   ]
  },
  {
   "cell_type": "code",
   "execution_count": 21,
   "metadata": {},
   "outputs": [
    {
     "name": "stdout",
     "output_type": "stream",
     "text": [
      "['Arizona', 'California', 'Nevada']\n"
     ]
    }
   ],
   "source": [
    "# the 'copy()' method\n",
    "samplelist = [\"Arizona\", \"California\", \"Nevada\"]\n",
    "mylist=samplelist.copy()\n",
    "print(mylist)"
   ]
  },
  {
   "cell_type": "code",
   "execution_count": 22,
   "metadata": {},
   "outputs": [
    {
     "name": "stdout",
     "output_type": "stream",
     "text": [
      "['Arizona', 'California', 'Nevada']\n"
     ]
    }
   ],
   "source": [
    "# The 'list()'method\n",
    "samplelist = [\"Arizona\", \"California\", \"Nevada\"]\n",
    "mylist=list(samplelist)\n",
    "print(mylist)"
   ]
  },
  {
   "cell_type": "markdown",
   "metadata": {},
   "source": [
    "#### **The list() Constructor**"
   ]
  },
  {
   "cell_type": "code",
   "execution_count": 25,
   "metadata": {},
   "outputs": [
    {
     "name": "stdout",
     "output_type": "stream",
     "text": [
      "['Arizona', 'California', 'Nevada']\n"
     ]
    }
   ],
   "source": [
    "# making a new list using list constructor \n",
    "samplelist=list((\"Arizona\", \"California\", \"Nevada\")) # make sure use double round brackets \n",
    "print(samplelist)"
   ]
  },
  {
   "cell_type": "markdown",
   "metadata": {},
   "source": [
    "#### **Python List count() Method**"
   ]
  },
  {
   "cell_type": "code",
   "execution_count": 27,
   "metadata": {},
   "outputs": [
    {
     "name": "stdout",
     "output_type": "stream",
     "text": [
      "1\n"
     ]
    }
   ],
   "source": [
    "samplelist = [\"Arizona\", \"California\", \"Nevada\"]\n",
    "x=samplelist.count('Nevada')\n",
    "print(x)\n",
    "#Return the number of times the value \"Nevada\" appears int the  samplelist"
   ]
  },
  {
   "cell_type": "markdown",
   "metadata": {},
   "source": [
    "#### **Python List extend() Method**"
   ]
  },
  {
   "cell_type": "code",
   "execution_count": 31,
   "metadata": {},
   "outputs": [
    {
     "name": "stdout",
     "output_type": "stream",
     "text": [
      "['Arizona', 'California', 'Nevada', 'BMW', 'Audi', 'Honda']\n"
     ]
    }
   ],
   "source": [
    "samplelist = [\"Arizona\", \"California\", \"Nevada\"]\n",
    "carslist=[\"BMW\",\"Audi\",\"Honda\"]\n",
    "samplelist.extend(carslist)\n",
    "print(samplelist)"
   ]
  },
  {
   "cell_type": "markdown",
   "metadata": {},
   "source": [
    "#### **Python List index() Method**"
   ]
  },
  {
   "cell_type": "code",
   "execution_count": 33,
   "metadata": {},
   "outputs": [
    {
     "name": "stdout",
     "output_type": "stream",
     "text": [
      "2\n"
     ]
    }
   ],
   "source": [
    "samplelist = [\"Arizona\", \"California\", \"Nevada\"]\n",
    "x=samplelist.index('Nevada')\n",
    "print(x)\n",
    "# return position of the value"
   ]
  },
  {
   "cell_type": "markdown",
   "metadata": {},
   "source": [
    "#### **Python List reverse() Method**"
   ]
  },
  {
   "cell_type": "code",
   "execution_count": 38,
   "metadata": {},
   "outputs": [
    {
     "name": "stdout",
     "output_type": "stream",
     "text": [
      "['Nevada', 'California', 'Arizona']\n"
     ]
    }
   ],
   "source": [
    "samplelist = [\"Arizona\", \"California\", \"Nevada\"]\n",
    "samplelist.reverse()\n",
    "print(samplelist)"
   ]
  },
  {
   "cell_type": "markdown",
   "metadata": {},
   "source": [
    "#### **Python List sort() Method**"
   ]
  },
  {
   "cell_type": "code",
   "execution_count": 39,
   "metadata": {},
   "outputs": [
    {
     "name": "stdout",
     "output_type": "stream",
     "text": [
      "['Arizona', 'California', 'Nevada']\n"
     ]
    }
   ],
   "source": [
    "# Alphabetically \n",
    "samplelist = [\"Arizona\", \"California\", \"Nevada\"]\n",
    "samplelist.sort()\n",
    "print(samplelist)"
   ]
  },
  {
   "cell_type": "code",
   "execution_count": 41,
   "metadata": {},
   "outputs": [
    {
     "name": "stdout",
     "output_type": "stream",
     "text": [
      "['Nevada', 'California', 'Arizona']\n"
     ]
    }
   ],
   "source": [
    "# Reverse (descending)\n",
    "samplelist = [\"Arizona\", \"California\", \"Nevada\"]\n",
    "samplelist.sort(reverse=True)\n",
    "print(samplelist)"
   ]
  },
  {
   "cell_type": "code",
   "execution_count": 44,
   "metadata": {},
   "outputs": [
    {
     "name": "stdout",
     "output_type": "stream",
     "text": [
      "['Nevada', 'Arizona', 'California']\n"
     ]
    }
   ],
   "source": [
    "# Sort the list by the length of the values:\n",
    "def myFunc(e):\n",
    "  return len(e)\n",
    "samplelist = [\"Arizona\", \"California\", \"Nevada\"]\n",
    "samplelist.sort(key=myFunc)\n",
    "print(samplelist)\n",
    "# return samall to large "
   ]
  },
  {
   "cell_type": "code",
   "execution_count": 45,
   "metadata": {},
   "outputs": [
    {
     "name": "stdout",
     "output_type": "stream",
     "text": [
      "['California', 'Arizona', 'Nevada']\n"
     ]
    }
   ],
   "source": [
    "#Sort the list by the length of the values and reversed\n",
    "def myFunc(e):\n",
    "  return len(e)\n",
    "samplelist = [\"Arizona\", \"California\", \"Nevada\"]\n",
    "samplelist.sort(reverse=True,key=myFunc)\n",
    "print(samplelist)"
   ]
  },
  {
   "cell_type": "markdown",
   "metadata": {},
   "source": [
    "# End"
   ]
  }
 ],
 "metadata": {
  "kernelspec": {
   "display_name": "Python 3",
   "language": "python",
   "name": "python3"
  },
  "language_info": {
   "codemirror_mode": {
    "name": "ipython",
    "version": 3
   },
   "file_extension": ".py",
   "mimetype": "text/x-python",
   "name": "python",
   "nbconvert_exporter": "python",
   "pygments_lexer": "ipython3",
   "version": "3.6.8"
  }
 },
 "nbformat": 4,
 "nbformat_minor": 2
}
